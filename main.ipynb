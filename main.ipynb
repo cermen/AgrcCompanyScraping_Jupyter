{
 "cells": [
  {
   "cell_type": "code",
   "execution_count": 1,
   "id": "ab64362a",
   "metadata": {},
   "outputs": [
    {
     "name": "stdout",
     "output_type": "stream",
     "text": [
      "Requirement already satisfied: chromedriver_autoinstaller in c:\\users\\yjs01\\anaconda3\\lib\\site-packages (0.3.1)\n"
     ]
    }
   ],
   "source": [
    "# 크롬 드라이버 업데이트 패키지 설치\n",
    "!pip install chromedriver_autoinstaller "
   ]
  },
  {
   "cell_type": "code",
   "execution_count": 2,
   "id": "df7232b0",
   "metadata": {},
   "outputs": [],
   "source": [
    "from selenium import webdriver\n",
    "from selenium.webdriver.common import keys\n",
    "import time\n",
    "\n",
    "import requests\n",
    "from bs4 import BeautifulSoup\n",
    "import json\n",
    "\n",
    "import numpy as np\n",
    "import pandas as pd\n",
    "\n",
    "from datetime import datetime"
   ]
  },
  {
   "cell_type": "code",
   "execution_count": 3,
   "id": "a4926377",
   "metadata": {},
   "outputs": [
    {
     "data": {
      "text/plain": [
       "'C:\\\\Users\\\\yjs01\\\\anaconda3\\\\lib\\\\site-packages\\\\chromedriver_autoinstaller\\\\98\\\\chromedriver.exe'"
      ]
     },
     "execution_count": 3,
     "metadata": {},
     "output_type": "execute_result"
    }
   ],
   "source": [
    "# 크롬 드라이버 업데이트\n",
    "import chromedriver_autoinstaller\n",
    "\n",
    "chromedriver_autoinstaller.install()"
   ]
  },
  {
   "cell_type": "code",
   "execution_count": 35,
   "id": "58814fa0",
   "metadata": {
    "collapsed": true
   },
   "outputs": [
    {
     "ename": "NoSuchElementException",
     "evalue": "Message: no such element: Unable to locate element: {\"method\":\"css selector\",\"selector\":\"div.bGiRCO > a:nth-child(2)\"}\n  (Session info: chrome=97.0.4692.99)\n",
     "output_type": "error",
     "traceback": [
      "\u001b[1;31m---------------------------------------------------------------------------\u001b[0m",
      "\u001b[1;31mNoSuchElementException\u001b[0m                    Traceback (most recent call last)",
      "\u001b[1;32m<ipython-input-35-295085a1cb18>\u001b[0m in \u001b[0;36m<module>\u001b[1;34m\u001b[0m\n\u001b[0;32m      9\u001b[0m \u001b[1;33m\u001b[0m\u001b[0m\n\u001b[0;32m     10\u001b[0m \u001b[0mtime\u001b[0m\u001b[1;33m.\u001b[0m\u001b[0msleep\u001b[0m\u001b[1;33m(\u001b[0m\u001b[1;36m2\u001b[0m\u001b[1;33m)\u001b[0m\u001b[1;33m\u001b[0m\u001b[1;33m\u001b[0m\u001b[0m\n\u001b[1;32m---> 11\u001b[1;33m \u001b[0mdriver\u001b[0m\u001b[1;33m.\u001b[0m\u001b[0mfind_element_by_css_selector\u001b[0m\u001b[1;33m(\u001b[0m\u001b[1;34m'div.bGiRCO > a:nth-child(2)'\u001b[0m\u001b[1;33m)\u001b[0m\u001b[1;33m.\u001b[0m\u001b[0mclick\u001b[0m\u001b[1;33m(\u001b[0m\u001b[1;33m)\u001b[0m\u001b[1;33m\u001b[0m\u001b[1;33m\u001b[0m\u001b[0m\n\u001b[0m",
      "\u001b[1;32m~\\anaconda3\\lib\\site-packages\\selenium\\webdriver\\remote\\webdriver.py\u001b[0m in \u001b[0;36mfind_element_by_css_selector\u001b[1;34m(self, css_selector)\u001b[0m\n\u001b[0;32m    596\u001b[0m             \u001b[0melement\u001b[0m \u001b[1;33m=\u001b[0m \u001b[0mdriver\u001b[0m\u001b[1;33m.\u001b[0m\u001b[0mfind_element_by_css_selector\u001b[0m\u001b[1;33m(\u001b[0m\u001b[1;34m'#foo'\u001b[0m\u001b[1;33m)\u001b[0m\u001b[1;33m\u001b[0m\u001b[1;33m\u001b[0m\u001b[0m\n\u001b[0;32m    597\u001b[0m         \"\"\"\n\u001b[1;32m--> 598\u001b[1;33m         \u001b[1;32mreturn\u001b[0m \u001b[0mself\u001b[0m\u001b[1;33m.\u001b[0m\u001b[0mfind_element\u001b[0m\u001b[1;33m(\u001b[0m\u001b[0mby\u001b[0m\u001b[1;33m=\u001b[0m\u001b[0mBy\u001b[0m\u001b[1;33m.\u001b[0m\u001b[0mCSS_SELECTOR\u001b[0m\u001b[1;33m,\u001b[0m \u001b[0mvalue\u001b[0m\u001b[1;33m=\u001b[0m\u001b[0mcss_selector\u001b[0m\u001b[1;33m)\u001b[0m\u001b[1;33m\u001b[0m\u001b[1;33m\u001b[0m\u001b[0m\n\u001b[0m\u001b[0;32m    599\u001b[0m \u001b[1;33m\u001b[0m\u001b[0m\n\u001b[0;32m    600\u001b[0m     \u001b[1;32mdef\u001b[0m \u001b[0mfind_elements_by_css_selector\u001b[0m\u001b[1;33m(\u001b[0m\u001b[0mself\u001b[0m\u001b[1;33m,\u001b[0m \u001b[0mcss_selector\u001b[0m\u001b[1;33m)\u001b[0m\u001b[1;33m:\u001b[0m\u001b[1;33m\u001b[0m\u001b[1;33m\u001b[0m\u001b[0m\n",
      "\u001b[1;32m~\\anaconda3\\lib\\site-packages\\selenium\\webdriver\\remote\\webdriver.py\u001b[0m in \u001b[0;36mfind_element\u001b[1;34m(self, by, value)\u001b[0m\n\u001b[0;32m    974\u001b[0m                 \u001b[0mby\u001b[0m \u001b[1;33m=\u001b[0m \u001b[0mBy\u001b[0m\u001b[1;33m.\u001b[0m\u001b[0mCSS_SELECTOR\u001b[0m\u001b[1;33m\u001b[0m\u001b[1;33m\u001b[0m\u001b[0m\n\u001b[0;32m    975\u001b[0m                 \u001b[0mvalue\u001b[0m \u001b[1;33m=\u001b[0m \u001b[1;34m'[name=\"%s\"]'\u001b[0m \u001b[1;33m%\u001b[0m \u001b[0mvalue\u001b[0m\u001b[1;33m\u001b[0m\u001b[1;33m\u001b[0m\u001b[0m\n\u001b[1;32m--> 976\u001b[1;33m         return self.execute(Command.FIND_ELEMENT, {\n\u001b[0m\u001b[0;32m    977\u001b[0m             \u001b[1;34m'using'\u001b[0m\u001b[1;33m:\u001b[0m \u001b[0mby\u001b[0m\u001b[1;33m,\u001b[0m\u001b[1;33m\u001b[0m\u001b[1;33m\u001b[0m\u001b[0m\n\u001b[0;32m    978\u001b[0m             'value': value})['value']\n",
      "\u001b[1;32m~\\anaconda3\\lib\\site-packages\\selenium\\webdriver\\remote\\webdriver.py\u001b[0m in \u001b[0;36mexecute\u001b[1;34m(self, driver_command, params)\u001b[0m\n\u001b[0;32m    319\u001b[0m         \u001b[0mresponse\u001b[0m \u001b[1;33m=\u001b[0m \u001b[0mself\u001b[0m\u001b[1;33m.\u001b[0m\u001b[0mcommand_executor\u001b[0m\u001b[1;33m.\u001b[0m\u001b[0mexecute\u001b[0m\u001b[1;33m(\u001b[0m\u001b[0mdriver_command\u001b[0m\u001b[1;33m,\u001b[0m \u001b[0mparams\u001b[0m\u001b[1;33m)\u001b[0m\u001b[1;33m\u001b[0m\u001b[1;33m\u001b[0m\u001b[0m\n\u001b[0;32m    320\u001b[0m         \u001b[1;32mif\u001b[0m \u001b[0mresponse\u001b[0m\u001b[1;33m:\u001b[0m\u001b[1;33m\u001b[0m\u001b[1;33m\u001b[0m\u001b[0m\n\u001b[1;32m--> 321\u001b[1;33m             \u001b[0mself\u001b[0m\u001b[1;33m.\u001b[0m\u001b[0merror_handler\u001b[0m\u001b[1;33m.\u001b[0m\u001b[0mcheck_response\u001b[0m\u001b[1;33m(\u001b[0m\u001b[0mresponse\u001b[0m\u001b[1;33m)\u001b[0m\u001b[1;33m\u001b[0m\u001b[1;33m\u001b[0m\u001b[0m\n\u001b[0m\u001b[0;32m    322\u001b[0m             response['value'] = self._unwrap_value(\n\u001b[0;32m    323\u001b[0m                 response.get('value', None))\n",
      "\u001b[1;32m~\\anaconda3\\lib\\site-packages\\selenium\\webdriver\\remote\\errorhandler.py\u001b[0m in \u001b[0;36mcheck_response\u001b[1;34m(self, response)\u001b[0m\n\u001b[0;32m    240\u001b[0m                 \u001b[0malert_text\u001b[0m \u001b[1;33m=\u001b[0m \u001b[0mvalue\u001b[0m\u001b[1;33m[\u001b[0m\u001b[1;34m'alert'\u001b[0m\u001b[1;33m]\u001b[0m\u001b[1;33m.\u001b[0m\u001b[0mget\u001b[0m\u001b[1;33m(\u001b[0m\u001b[1;34m'text'\u001b[0m\u001b[1;33m)\u001b[0m\u001b[1;33m\u001b[0m\u001b[1;33m\u001b[0m\u001b[0m\n\u001b[0;32m    241\u001b[0m             \u001b[1;32mraise\u001b[0m \u001b[0mexception_class\u001b[0m\u001b[1;33m(\u001b[0m\u001b[0mmessage\u001b[0m\u001b[1;33m,\u001b[0m \u001b[0mscreen\u001b[0m\u001b[1;33m,\u001b[0m \u001b[0mstacktrace\u001b[0m\u001b[1;33m,\u001b[0m \u001b[0malert_text\u001b[0m\u001b[1;33m)\u001b[0m\u001b[1;33m\u001b[0m\u001b[1;33m\u001b[0m\u001b[0m\n\u001b[1;32m--> 242\u001b[1;33m         \u001b[1;32mraise\u001b[0m \u001b[0mexception_class\u001b[0m\u001b[1;33m(\u001b[0m\u001b[0mmessage\u001b[0m\u001b[1;33m,\u001b[0m \u001b[0mscreen\u001b[0m\u001b[1;33m,\u001b[0m \u001b[0mstacktrace\u001b[0m\u001b[1;33m)\u001b[0m\u001b[1;33m\u001b[0m\u001b[1;33m\u001b[0m\u001b[0m\n\u001b[0m\u001b[0;32m    243\u001b[0m \u001b[1;33m\u001b[0m\u001b[0m\n\u001b[0;32m    244\u001b[0m     \u001b[1;32mdef\u001b[0m \u001b[0m_value_or_default\u001b[0m\u001b[1;33m(\u001b[0m\u001b[0mself\u001b[0m\u001b[1;33m,\u001b[0m \u001b[0mobj\u001b[0m\u001b[1;33m,\u001b[0m \u001b[0mkey\u001b[0m\u001b[1;33m,\u001b[0m \u001b[0mdefault\u001b[0m\u001b[1;33m)\u001b[0m\u001b[1;33m:\u001b[0m\u001b[1;33m\u001b[0m\u001b[1;33m\u001b[0m\u001b[0m\n",
      "\u001b[1;31mNoSuchElementException\u001b[0m: Message: no such element: Unable to locate element: {\"method\":\"css selector\",\"selector\":\"div.bGiRCO > a:nth-child(2)\"}\n  (Session info: chrome=97.0.4692.99)\n"
     ]
    }
   ],
   "source": [
    "# statista 사이트 로그인\n",
    "driver = webdriver.Chrome('chromedriver.exe')\n",
    "driver.get('https://www.statista.com/companydb/about')\n",
    "\n",
    "time.sleep(1)\n",
    "driver.find_element_by_id('onetrust-accept-btn-handler').click()\n",
    "driver.find_element_by_css_selector('.navMain__item.navMain__item--responsiveEn.navMain__item--layoutDefault').click()\n",
    "\n",
    "time.sleep(1)\n",
    "driver.find_element_by_id('loginStat_username').send_keys('********')\n",
    "driver.find_element_by_id('loginStat_password').send_keys('********')\n",
    "driver.find_element_by_id('loginStat_submitLogin').click()"
   ]
  },
  {
   "cell_type": "code",
   "execution_count": 4,
   "id": "a2226a11",
   "metadata": {},
   "outputs": [],
   "source": [
    "# # 세션 설정 (whatismybrowser 크롤링이 막힌 관계로 나중에 실행)\n",
    "# def set_session():\n",
    "#     driver.execute_script(\"window.open('https://www.whatismybrowser.com/detect/what-is-my-user-agent', 'new_window')\")\n",
    "#     driver.switch_to.window(driver.window_handles[1])\n",
    "    \n",
    "#     user_agent = driver.find_element_by_css_selector('#detected_value > a').text\n",
    "    \n",
    "#     s = requests.Session()\n",
    "#     header = {\n",
    "#         'User-Agent' : user_agent\n",
    "#     }\n",
    "#     s.headers.update(header)\n",
    "#     for cookie in driver.get_cookies():\n",
    "#         c = {cookie['name']: cookie['value']}\n",
    "#         s.cookies.update(c)\n",
    "#     driver.close()\n",
    "#     driver.switch_to_window(driver.window_handles[0])\n",
    "    \n",
    "#     return s"
   ]
  },
  {
   "cell_type": "code",
   "execution_count": 5,
   "id": "fa9fece4",
   "metadata": {},
   "outputs": [],
   "source": [
    "# 연도별 매출 관련 데이터 추가\n",
    "def add_rev_data(data, sub_data, key, rnd_digit, unit=''):\n",
    "    if sub_data[key]:\n",
    "        oldest_year = min([int(year) for year in sub_data[key].keys()])\n",
    "        for year in range(oldest_year, 2017):\n",
    "            if str(year) in sub_data[key].keys():\n",
    "                sub_data[key].pop(str(year))\n",
    "    for year in range(2017, 2021):\n",
    "        if str(year) not in sub_data[key]:\n",
    "            sub_data[key][str(year)] = None\n",
    "    sub_data[key] = dict(sorted(sub_data[key].items()))  # 연도별 정렬\n",
    "    \n",
    "    for rev in list(sub_data[key].values())[:4]:\n",
    "        if rev is not None:\n",
    "            data.extend([str(round(rev, rnd_digit)) + unit])\n",
    "        else:\n",
    "            data.extend([np.nan])"
   ]
  },
  {
   "cell_type": "code",
   "execution_count": 11,
   "id": "e2881074",
   "metadata": {
    "scrolled": true
   },
   "outputs": [],
   "source": [
    "def scrap(keyword, start_page, end_page, columns):\n",
    "    # 세션 설정\n",
    "#     s = set_session()\n",
    "#     driver.execute_script(\"window.open('https://www.whatismybrowser.com/detect/what-is-my-user-agent', 'new_window')\")\n",
    "#     driver.switch_to.window(driver.window_handles[1])\n",
    "    \n",
    "#     user_agent = driver.find_element_by_css_selector('#detected_value > a').text\n",
    "    \n",
    "    s = requests.Session()\n",
    "    header = {\n",
    "        'User-Agent' : 'Mozilla/5.0 (Windows NT 10.0; Win64; x64) AppleWebKit/537.36 (KHTML, like Gecko) Chrome/98.0.4758.82 Safari/537.36'\n",
    "    }\n",
    "    s.headers.update(header)\n",
    "    for cookie in driver.get_cookies():\n",
    "        c = {cookie['name']: cookie['value']}\n",
    "        s.cookies.update(c)\n",
    "#     driver.close()\n",
    "#     driver.switch_to_window(driver.window_handles[0])\n",
    "\n",
    "    # 스크래핑 작업\n",
    "    all_data = list()\n",
    "    for p in range(start_page, end_page + 1):\n",
    "        resp = s.get('https://www.statista.com/companydb/search?p=' + str(p) + '&itemsPerPage=100&sortMethod=revenueDesc&currency=USD&q=' + keyword + '&idCountry=0&idBranch=0&idSubBranch=0&typePrivate=1&typePublic=1&statusActive=1&revenueFrom=-1000000000000&revenueTo=1000000000000&employeesFrom=0&employeesTo=100000000')\n",
    "        soup = BeautifulSoup(resp.text)\n",
    "        data_items = soup.select_one('section.responsiveSection.margin-bottom-70 > div.responsiveSection__grid > div > div').get('data-var')\n",
    "        data_items = json.loads(data_items)\n",
    "\n",
    "        for data in data_items[:10]:\n",
    "            company_data = list()\n",
    "\n",
    "            name = data['name']\n",
    "            location = data['country']\n",
    "            industry = data['branches'][0]['branch']['desc']\n",
    "            iso_code = data['currency']['isoCode']\n",
    "            employees = data['employees']\n",
    "            ipo_status = 'Public' if data['isStocklisted'] else 'Private'\n",
    "\n",
    "            revenue = '$'\n",
    "            if abs(data['revenue']) > 1000:\n",
    "                revenue += str(round(data['revenue'] / 1000, 1)) + 'b'\n",
    "            elif abs(data['revenue']) > 1:\n",
    "                revenue += str(round(data['revenue'], 1)) + 'm'\n",
    "            elif abs(data['revenue']) > 0.001:\n",
    "                revenue += str(round(data['revenue'] * 1000, 1)) + 'k'\n",
    "            elif abs(data['revenue']) > 0:\n",
    "                revenue += str(round(data['revenue'] * 1000000, 1))\n",
    "            else:\n",
    "                revenue = np.nan\n",
    "\n",
    "            company_data.extend([name, location, industry, revenue, iso_code, employees, ipo_status])\n",
    "\n",
    "            company_url = 'https://www.statista.com' + data['path']\n",
    "            c_resp = s.get(company_url)\n",
    "            c_soup = BeautifulSoup(c_resp.text)\n",
    "\n",
    "            try:\n",
    "                sub_data = c_soup.select_one('div#content > div:nth-child(5)').get('data-company-details')\n",
    "            except AttributeError:\n",
    "                continue\n",
    "            sub_data = json.loads(sub_data)\n",
    "\n",
    "            address = str()\n",
    "            if sub_data['addressLines']:\n",
    "                for addr in sub_data['addressLines'].values():\n",
    "                    address += addr + ', '\n",
    "                address += sub_data['city']\n",
    "            phone = sub_data['phone']\n",
    "            website = sub_data['website']\n",
    "            email = sub_data['investorRelationsMail']\n",
    "            est_year = sub_data['foundingYear']\n",
    "            ceo = sub_data['ceo']\n",
    "            desc = sub_data['description']\n",
    "\n",
    "            company_data.extend([address, phone, website, email, est_year, ceo, desc])\n",
    "\n",
    "            try:\n",
    "                sub_data_2 = c_soup.select_one('div#content > div:nth-child(5)').get('data-data-points')\n",
    "            except AttributeError:\n",
    "                continue\n",
    "            sub_data_2 = json.loads(sub_data_2)\n",
    "\n",
    "            add_rev_data(company_data, sub_data_2, 'revenueGrowth', 2, unit='%')\n",
    "            add_rev_data(company_data, sub_data_2, 'revenuePerEmployee', 4)\n",
    "\n",
    "            revenue_key = 'revenue' if sub_data_2['revenue'] else 'revenueEstimated'\n",
    "            if revenue_key == 'revenueEstimated' or max(sub_data_2['revenue'].values()) >= 10**8:\n",
    "                for year in sub_data_2[revenue_key].keys():\n",
    "                    sub_data_2[revenue_key][year] /= 1000000\n",
    "            add_rev_data(company_data, sub_data_2, revenue_key, 1)\n",
    "\n",
    "            all_data.append(company_data)\n",
    "            \n",
    "            time.sleep(30)\n",
    "\n",
    "    all_columns = [\n",
    "        'Name', 'Country', 'Industry', 'Revenue', 'ISO Code', 'Employees', 'IPO Status', \n",
    "        'Address', 'Tel', 'Homepage', 'Email', 'Founding year', 'CEO', 'Highlights'\n",
    "    ]\n",
    "    years = range(2017, 2021)\n",
    "    all_columns.extend(['Revenue YoY Growth ' + str(year) for year in years])\n",
    "    all_columns.extend(['Revenue per Employee ' + str(year) for year in years])\n",
    "    all_columns.extend(['Revenue ' + str(year) for year in years])\n",
    "    all_data = pd.DataFrame(all_data, columns=all_columns)[columns]\n",
    "\n",
    "    now = datetime.today().strftime('%y%m%d_%H%M%S')\n",
    "    all_data.to_csv('data/data_' + now + '.csv', encoding='utf-8-sig')"
   ]
  },
  {
   "cell_type": "code",
   "execution_count": null,
   "id": "879237a7",
   "metadata": {
    "scrolled": true
   },
   "outputs": [
    {
     "name": "stdout",
     "output_type": "stream",
     "text": [
      " * Serving Flask app \"__name__\" (lazy loading)\n",
      " * Environment: production\n",
      "\u001b[31m   WARNING: This is a development server. Do not use it in a production deployment.\u001b[0m\n",
      "\u001b[2m   Use a production WSGI server instead.\u001b[0m\n",
      " * Debug mode: off\n"
     ]
    },
    {
     "name": "stderr",
     "output_type": "stream",
     "text": [
      "INFO:werkzeug: * Running on http://127.0.0.1:8081/ (Press CTRL+C to quit)\n",
      "INFO:werkzeug:127.0.0.1 - - [26/Jan/2022 15:29:41] \"\u001b[37mGET / HTTP/1.1\u001b[0m\" 200 -\n",
      "INFO:werkzeug:127.0.0.1 - - [26/Jan/2022 15:29:41] \"\u001b[37mGET /static/style.css HTTP/1.1\u001b[0m\" 200 -\n",
      "INFO:werkzeug:127.0.0.1 - - [26/Jan/2022 15:29:42] \"\u001b[33mGET /favicon.ico HTTP/1.1\u001b[0m\" 404 -\n"
     ]
    }
   ],
   "source": [
    "from flask import Flask, render_template, request, redirect\n",
    "\n",
    "app = Flask('__name__')\n",
    "\n",
    "\n",
    "@app.route('/')\n",
    "def main():\n",
    "    return render_template('main.html')\n",
    "\n",
    "\n",
    "@app.route('/', methods=['GET', 'POST'])\n",
    "def execute_scraping():\n",
    "    if request.method == 'POST':\n",
    "        keyword = request.form['keyword']\n",
    "        start_page = int(request.form['start-page'])\n",
    "        end_page = int(request.form['end-page'])\n",
    "        columns = request.form.getlist('column')\n",
    "        \n",
    "        scrap(keyword, start_page, end_page, columns)\n",
    "\n",
    "        return redirect('/')\n",
    "\n",
    "\n",
    "if __name__ == '__main__':\n",
    "    app.run(host='127.0.0.1', port=8081)"
   ]
  },
  {
   "cell_type": "code",
   "execution_count": null,
   "id": "7fd8f2d0",
   "metadata": {},
   "outputs": [],
   "source": []
  }
 ],
 "metadata": {
  "kernelspec": {
   "display_name": "Python 3 (ipykernel)",
   "language": "python",
   "name": "python3"
  },
  "language_info": {
   "codemirror_mode": {
    "name": "ipython",
    "version": 3
   },
   "file_extension": ".py",
   "mimetype": "text/x-python",
   "name": "python",
   "nbconvert_exporter": "python",
   "pygments_lexer": "ipython3",
   "version": "3.9.7"
  }
 },
 "nbformat": 4,
 "nbformat_minor": 5
}
